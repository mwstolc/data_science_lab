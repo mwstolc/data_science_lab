{
 "cells": [
  {
   "cell_type": "markdown",
   "id": "1d41c5a1-b74c-46c4-90f3-07ca1fd44748",
   "metadata": {},
   "source": [
    "Data Science Tools and Ecosystem"
   ]
  },
  {
   "cell_type": "markdown",
   "id": "3182cd00-52ec-4af8-b6a7-0acb19da02cc",
   "metadata": {},
   "source": [
    "In this notebook, Data Science Tools and Ecosystem are summarized."
   ]
  },
  {
   "cell_type": "markdown",
   "id": "24dad7c0-4c7a-4172-8bf4-51073616b559",
   "metadata": {},
   "source": [
    "**Objectives:**\n",
    "\n",
    "- List popular languages for Data Science.\n",
    "- List popular open sourse tools for Data Science.\n",
    "- Evalueting arithmetic expressions"
   ]
  },
  {
   "cell_type": "markdown",
   "id": "dea49120-ba50-4baa-9f90-5148d4f73562",
   "metadata": {},
   "source": [
    "Some of the popular languages that Data Scientists use are:"
   ]
  },
  {
   "cell_type": "markdown",
   "id": "d2b292bc-d57d-4a7a-a554-858a5e1ba952",
   "metadata": {},
   "source": [
    "1. Python\n",
    "2. SQL\n",
    "3. R\n",
    "4. Julia\n",
    "5. Scala"
   ]
  },
  {
   "cell_type": "markdown",
   "id": "549b847c-8c97-48b2-8f56-6c5d81397e62",
   "metadata": {},
   "source": [
    "Some of the commonly used libraries used by Data Scientists include:"
   ]
  },
  {
   "cell_type": "markdown",
   "id": "c8f3657d-61cc-4abd-883f-475fa93a54a4",
   "metadata": {},
   "source": [
    "1. Python Libraries: NumPy, Pandas\n",
    "2. R Libraries: ggplot2, dplyr\n",
    "3. Julia Libraries: DataFrames.jl, Flux.jl\n",
    "4. Big Data Libraries: Apache Spark (PySpark), Hadoop"
   ]
  },
  {
   "cell_type": "markdown",
   "id": "81fd40ea-067f-4a85-9087-cabe7a3b1ffb",
   "metadata": {},
   "source": [
    "| Data Science Tools | \n",
    "| ------ | \n",
    "| JupyterLab |\n",
    "| Anaconda |\n",
    "| RStudio |"
   ]
  },
  {
   "cell_type": "markdown",
   "id": "c53d64fe-64a2-4bff-9158-842a19b85622",
   "metadata": {},
   "source": [
    "### Below are a few examples of evaluating arithmetic expressions in Python"
   ]
  },
  {
   "cell_type": "code",
   "execution_count": 4,
   "id": "b8ddd9ba-cdfd-43bb-9dc2-2727a7e19d8f",
   "metadata": {},
   "outputs": [
    {
     "data": {
      "text/plain": [
       "17"
      ]
     },
     "execution_count": 4,
     "metadata": {},
     "output_type": "execute_result"
    }
   ],
   "source": [
    "#This a simple arithmetic expression to mutiply then add integers\n",
    "\n",
    "(3*4)+5"
   ]
  },
  {
   "cell_type": "code",
   "execution_count": 5,
   "id": "691c7b38-7d85-46a3-8542-bd0119dd06d1",
   "metadata": {},
   "outputs": [
    {
     "data": {
      "text/plain": [
       "3.3333333333333335"
      ]
     },
     "execution_count": 5,
     "metadata": {},
     "output_type": "execute_result"
    }
   ],
   "source": [
    "#This will convert 200 minutes to hours by diving by 60\n",
    "\n",
    "200/60"
   ]
  },
  {
   "cell_type": "code",
   "execution_count": null,
   "id": "9669ac2a-6907-43e1-b4bf-bbdce24d3e45",
   "metadata": {},
   "outputs": [],
   "source": []
  }
 ],
 "metadata": {
  "kernelspec": {
   "display_name": "Python 3 (ipykernel)",
   "language": "python",
   "name": "python3"
  },
  "language_info": {
   "codemirror_mode": {
    "name": "ipython",
    "version": 3
   },
   "file_extension": ".py",
   "mimetype": "text/x-python",
   "name": "python",
   "nbconvert_exporter": "python",
   "pygments_lexer": "ipython3",
   "version": "3.12.8"
  }
 },
 "nbformat": 4,
 "nbformat_minor": 5
}
